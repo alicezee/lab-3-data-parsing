{
 "cells": [
  {
   "cell_type": "code",
   "execution_count": null,
   "id": "c73c0395",
   "metadata": {},
   "outputs": [],
   "source": [
    "import pandas as pd"
   ]
  },
  {
   "cell_type": "code",
   "execution_count": 26,
   "id": "0590082c",
   "metadata": {},
   "outputs": [
    {
     "data": {
      "text/plain": [
       "0             BOB(\n",
       "1          dana~  \n",
       "2            {EVE/\n",
       "3        \"ALICE   \n",
       "4              BOB\n",
       "5             DANA\n",
       "6          CHARLIE\n",
       "7         alice   \n",
       "8            FRANK\n",
       "9              bob\n",
       "10             eve\n",
       "11          \\dana'\n",
       "12             EVE\n",
       "13        CHARLIE \n",
       "14            -eve\n",
       "15          bob   \n",
       "16             EVE\n",
       "17       .FRANK   \n",
       "18            eve \n",
       "19             EVE\n",
       "20            BOB&\n",
       "21        charlie\"\n",
       "22      ,charlie  \n",
       "23           EVE  \n",
       "24           ]dana\n",
       "25       charlie  \n",
       "26          alice+\n",
       "27           EVE{ \n",
       "28            DANA\n",
       "29         frank  \n",
       "30        CHARLIE!\n",
       "31        |ALICE# \n",
       "32             BOB\n",
       "33          frank^\n",
       "34           alice\n",
       "35            'bob\n",
       "36         CHARLIE\n",
       "37           eve+ \n",
       "38        CHARLIE \n",
       "39         charlie\n",
       "40           dana#\n",
       "41         DANA   \n",
       "42            dana\n",
       "43         CHARLIE\n",
       "44      =charlie! \n",
       "45          bob   \n",
       "46             bob\n",
       "47         ;EVE   \n",
       "48      =charlie  \n",
       "49            dana\n",
       "Name: raw, dtype: object"
      ]
     },
     "execution_count": 26,
     "metadata": {},
     "output_type": "execute_result"
    }
   ],
   "source": [
    "# load in messy_strings.csv\n",
    "\n",
    "df_raw = pd.read_csv(\"messy_strings.csv\")\n",
    "\n",
    "df_raw[\"raw\"]"
   ]
  },
  {
   "cell_type": "code",
   "execution_count": null,
   "id": "15a1591c",
   "metadata": {},
   "outputs": [],
   "source": [
    "def clean_strings(df_raw):\n",
    "    df_raw = df_raw.str.lower()\n",
    "    df_raw = df_raw.str.replace(\"[^a-z]\", \"\", regex=True)\n",
    "    df_raw = df_raw.dropna()\n",
    "    \n",
    "\n",
    "    return df_raw"
   ]
  },
  {
   "cell_type": "code",
   "execution_count": 61,
   "id": "be8b668c",
   "metadata": {},
   "outputs": [
    {
     "data": {
      "text/plain": [
       "0         bob\n",
       "1        dana\n",
       "2         eve\n",
       "3       alice\n",
       "4         bob\n",
       "5        dana\n",
       "6     charlie\n",
       "7       alice\n",
       "8       frank\n",
       "9         bob\n",
       "10        eve\n",
       "11       dana\n",
       "12        eve\n",
       "13    charlie\n",
       "14        eve\n",
       "15        bob\n",
       "16        eve\n",
       "17      frank\n",
       "18        eve\n",
       "19        eve\n",
       "20        bob\n",
       "21    charlie\n",
       "22    charlie\n",
       "23        eve\n",
       "24       dana\n",
       "25    charlie\n",
       "26      alice\n",
       "27        eve\n",
       "28       dana\n",
       "29      frank\n",
       "30    charlie\n",
       "31      alice\n",
       "32        bob\n",
       "33      frank\n",
       "34      alice\n",
       "35        bob\n",
       "36    charlie\n",
       "37        eve\n",
       "38    charlie\n",
       "39    charlie\n",
       "40       dana\n",
       "41       dana\n",
       "42       dana\n",
       "43    charlie\n",
       "44    charlie\n",
       "45        bob\n",
       "46        bob\n",
       "47        eve\n",
       "48    charlie\n",
       "49       dana\n",
       "Name: clean, dtype: object"
      ]
     },
     "execution_count": 61,
     "metadata": {},
     "output_type": "execute_result"
    }
   ],
   "source": [
    "df_clean = pd.DataFrame(columns=[\"clean\"])\n",
    "\n",
    "df_clean[\"clean\"] = clean_strings(df_raw[\"raw\"])\n",
    "df_clean[\"clean\"]"
   ]
  }
 ],
 "metadata": {
  "kernelspec": {
   "display_name": "base",
   "language": "python",
   "name": "python3"
  },
  "language_info": {
   "codemirror_mode": {
    "name": "ipython",
    "version": 3
   },
   "file_extension": ".py",
   "mimetype": "text/x-python",
   "name": "python",
   "nbconvert_exporter": "python",
   "pygments_lexer": "ipython3",
   "version": "3.11.5"
  }
 },
 "nbformat": 4,
 "nbformat_minor": 5
}
